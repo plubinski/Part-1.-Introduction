{
 "cells": [
  {
   "cell_type": "markdown",
   "metadata": {
    "colab_type": "text",
    "id": "eIUcxxsUJAUO"
   },
   "source": [
    "Example from: https://github.com/aymericdamien/TensorFlow-Examples/blob/master/notebooks/2_BasicModels/linear_regression.ipynb"
   ]
  },
  {
   "cell_type": "code",
   "execution_count": 0,
   "metadata": {
    "colab": {
     "autoexec": {
      "startup": false,
      "wait_interval": 0
     }
    },
    "colab_type": "code",
    "collapsed": true,
    "id": "BNpL7_-g3Btz"
   },
   "outputs": [],
   "source": [
    "import tensorflow as tf\n",
    "import numpy\n",
    "import matplotlib.pyplot as plt"
   ]
  },
  {
   "cell_type": "code",
   "execution_count": 0,
   "metadata": {
    "colab": {
     "autoexec": {
      "startup": false,
      "wait_interval": 0
     }
    },
    "colab_type": "code",
    "collapsed": true,
    "id": "mjAwsJF3IkPb"
   },
   "outputs": [],
   "source": [
    "# Hyperparameters\n",
    "learning_rate = 0.01\n",
    "training_epochs = 1000\n",
    "display_step = 50"
   ]
  },
  {
   "cell_type": "code",
   "execution_count": 0,
   "metadata": {
    "colab": {
     "autoexec": {
      "startup": false,
      "wait_interval": 0
     }
    },
    "colab_type": "code",
    "collapsed": true,
    "id": "BOgfA5sqIoTp"
   },
   "outputs": [],
   "source": [
    "# Training Data\n",
    "train_X = numpy.asarray([3.3,4.4,5.5,6.71,6.93,4.168,9.779,6.182,7.59,2.167,\n",
    "                         7.042,10.791,5.313,7.997,5.654,9.27,3.1])\n",
    "train_Y = numpy.asarray([1.7,2.76,2.09,3.19,1.694,1.573,3.366,2.596,2.53,1.221,\n",
    "                         2.827,3.465,1.65,2.904,2.42,2.94,1.3])\n",
    "n_samples = train_X.shape[0]"
   ]
  },
  {
   "cell_type": "code",
   "execution_count": 0,
   "metadata": {
    "colab": {
     "autoexec": {
      "startup": false,
      "wait_interval": 0
     }
    },
    "colab_type": "code",
    "collapsed": true,
    "id": "GxQ9v1UZIqy0"
   },
   "outputs": [],
   "source": [
    "# tf Graph Inputs\n",
    "X = tf.placeholder(\"float\")\n",
    "Y = tf.placeholder(\"float\")\n",
    "\n",
    "# Parameters\n",
    "W = tf.Variable(0.0, name=\"weight\")\n",
    "b = tf.Variable(0.0, name=\"bias\")"
   ]
  },
  {
   "cell_type": "code",
   "execution_count": 0,
   "metadata": {
    "colab": {
     "autoexec": {
      "startup": false,
      "wait_interval": 0
     }
    },
    "colab_type": "code",
    "collapsed": true,
    "id": "qdw4AYeZJFLL"
   },
   "outputs": [],
   "source": [
    "# Linear regression model\n",
    "y_ = tf.add(tf.multiply(X, W), b)"
   ]
  },
  {
   "cell_type": "code",
   "execution_count": 0,
   "metadata": {
    "colab": {
     "autoexec": {
      "startup": false,
      "wait_interval": 0
     }
    },
    "colab_type": "code",
    "collapsed": true,
    "id": "HqbU6nHbJNWM"
   },
   "outputs": [],
   "source": [
    "# Mean squared error\n",
    "cost = tf.reduce_sum(tf.pow(y_-Y, 2))/(2*n_samples)\n",
    "# Gradient descent\n",
    "optimizer = tf.train.GradientDescentOptimizer(learning_rate).minimize(cost)"
   ]
  },
  {
   "cell_type": "code",
   "execution_count": 0,
   "metadata": {
    "colab": {
     "autoexec": {
      "startup": false,
      "wait_interval": 0
     }
    },
    "colab_type": "code",
    "collapsed": true,
    "id": "8YfStrFBJepk"
   },
   "outputs": [],
   "source": [
    "# Initialize the variables (i.e. assign their default value)\n",
    "init = tf.global_variables_initializer()"
   ]
  },
  {
   "cell_type": "code",
   "execution_count": 38,
   "metadata": {
    "colab": {
     "autoexec": {
      "startup": false,
      "wait_interval": 0
     },
     "base_uri": "https://localhost:8080/",
     "height": 756,
     "output_extras": [
      {
       "item_id": 20
      },
      {
       "item_id": 21
      }
     ]
    },
    "colab_type": "code",
    "executionInfo": {
     "elapsed": 7679,
     "status": "ok",
     "timestamp": 1516413677452,
     "user": {
      "displayName": "Oleksandr Zakharchuk",
      "photoUrl": "https://lh3.googleusercontent.com/a/default-user=s128",
      "userId": "106036967230627817979"
     },
     "user_tz": -60
    },
    "id": "ZniTumghJlIS",
    "outputId": "33ad39d3-4a5d-4541-c500-ea189993b8bb"
   },
   "outputs": [
    {
     "name": "stdout",
     "output_type": "stream",
     "text": [
      "Epoch: 0050 cost= 0.107756071 W= 0.3477802 b= 0.09511911\n",
      "Epoch: 0100 cost= 0.104197167 W= 0.34194055 b= 0.13712892\n",
      "Epoch: 0150 cost= 0.101049520 W= 0.33644822 b= 0.17664027\n",
      "Epoch: 0200 cost= 0.098265588 W= 0.33128253 b= 0.21380165\n",
      "Epoch: 0250 cost= 0.095803380 W= 0.32642415 b= 0.24875292\n",
      "Epoch: 0300 cost= 0.093625754 W= 0.32185468 b= 0.28162554\n",
      "Epoch: 0350 cost= 0.091699809 W= 0.31755695 b= 0.3125434\n",
      "Epoch: 0400 cost= 0.089996584 W= 0.31351483 b= 0.34162137\n",
      "Epoch: 0450 cost= 0.088490218 W= 0.3097131 b= 0.3689706\n",
      "Epoch: 0500 cost= 0.087157980 W= 0.30613753 b= 0.39469397\n",
      "Epoch: 0550 cost= 0.085979842 W= 0.3027746 b= 0.4188863\n",
      "Epoch: 0600 cost= 0.084937967 W= 0.29961178 b= 0.44163978\n",
      "Epoch: 0650 cost= 0.084016584 W= 0.29663682 b= 0.46304068\n",
      "Epoch: 0700 cost= 0.083201766 W= 0.29383895 b= 0.48316905\n",
      "Epoch: 0750 cost= 0.082481273 W= 0.29120746 b= 0.5020994\n",
      "Epoch: 0800 cost= 0.081844136 W= 0.2887325 b= 0.51990384\n",
      "Epoch: 0850 cost= 0.081280701 W= 0.2864047 b= 0.5366499\n",
      "Epoch: 0900 cost= 0.080782510 W= 0.28421533 b= 0.5524001\n",
      "Epoch: 0950 cost= 0.080341995 W= 0.28215602 b= 0.56721413\n",
      "Epoch: 1000 cost= 0.079952464 W= 0.28021947 b= 0.58114666\n",
      "Optimization Finished!\n",
      "Training cost= 0.07995246 W= 0.28021947 b= 0.58114666 \n",
      "\n"
     ]
    },
    {
     "data": {
      "image/png": "[encoded data removed]",
      "text/plain": [
       "<matplotlib.figure.Figure at 0x7f193e329a90>"
      ]
     },
     "metadata": {
      "tags": []
     },
     "output_type": "display_data"
    }
   ],
   "source": [
    "# Start training\n",
    "with tf.Session() as sess:\n",
    "    sess.run(init)\n",
    "\n",
    "    # Fit all training data\n",
    "    for epoch in range(training_epochs):\n",
    "        for (x, y) in zip(train_X, train_Y):\n",
    "            sess.run(optimizer, feed_dict={X: x, Y: y})\n",
    "\n",
    "        #Display logs per epoch step\n",
    "        if (epoch+1) % display_step == 0:\n",
    "            c = sess.run(cost, feed_dict={X: train_X, Y:train_Y})\n",
    "            print(\"Epoch:\", '%04d' % (epoch+1), \"cost=\", \"{:.9f}\".format(c), \\\n",
    "                \"W=\", sess.run(W), \"b=\", sess.run(b))\n",
    "\n",
    "    print(\"Optimization Finished!\")\n",
    "    training_cost = sess.run(cost, feed_dict={X: train_X, Y: train_Y})\n",
    "    print(\"Training cost=\", training_cost, \"W=\", sess.run(W), \"b=\", sess.run(b), '\\n')\n",
    "\n",
    "    #Plot the results\n",
    "    plt.plot(train_X, train_Y, 'ro', label='Original data')\n",
    "    plt.plot(train_X, sess.run(W) * train_X + sess.run(b), label='Fitted line')\n",
    "    plt.legend()\n",
    "    plt.show()"
   ]
  },
  {
   "cell_type": "markdown",
   "metadata": {
    "colab_type": "text",
    "id": "rYVTwkEzSx1p"
   },
   "source": [
    "Tasks:\n",
    "1. Try reducing the learning rate to 0.00001. How does it affect the training?\n",
    "2. Try increasing the learning rate to 1. What happens?"
   ]
  },
  {
   "cell_type": "code",
   "execution_count": 0,
   "metadata": {
    "colab": {
     "autoexec": {
      "startup": false,
      "wait_interval": 0
     }
    },
    "colab_type": "code",
    "collapsed": true,
    "id": "eoRZxASwTBMy"
   },
   "outputs": [],
   "source": []
  }
 ],
 "metadata": {
  "colab": {
   "default_view": {},
   "name": "1. TF linear regression.ipynb",
   "provenance": [],
   "version": "0.3.2",
   "views": {}
  },
  "kernelspec": {
   "display_name": "Python 3",
   "language": "python",
   "name": "python3"
  },
  "language_info": {
   "codemirror_mode": {
    "name": "ipython",
    "version": 3
   },
   "file_extension": ".py",
   "mimetype": "text/x-python",
   "name": "python",
   "nbconvert_exporter": "python",
   "pygments_lexer": "ipython3",
   "version": "3.6.4"
  }
 },
 "nbformat": 4,
 "nbformat_minor": 1
}
