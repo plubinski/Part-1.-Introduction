{
 "cells": [
  {
   "cell_type": "markdown",
   "metadata": {
    "colab_type": "text",
    "id": "CmoCJUMcK8CY"
   },
   "source": [
    "Example from: https://github.com/aymericdamien/TensorFlow-Examples/blob/master/notebooks/2_BasicModels/logistic_regression.ipynb"
   ]
  },
  {
   "cell_type": "code",
   "execution_count": 1,
   "metadata": {
    "colab": {
     "autoexec": {
      "startup": false,
      "wait_interval": 0
     },
     "base_uri": "https://localhost:8080/",
     "height": 88,
     "output_extras": [
      {
       "item_id": 2
      }
     ]
    },
    "colab_type": "code",
    "executionInfo": {
     "elapsed": 1040,
     "status": "ok",
     "timestamp": 1516418334335,
     "user": {
      "displayName": "Oleksandr Zakharchuk",
      "photoUrl": "https://lh3.googleusercontent.com/a/default-user=s128",
      "userId": "106036967230627817979"
     },
     "user_tz": -60
    },
    "id": "jDaXN5HUKFfg",
    "outputId": "d5f654d8-7d79-42d2-dbe8-ca61727bd40d"
   },
   "outputs": [
    {
     "name": "stderr",
     "output_type": "stream",
     "text": [
      "C:\\Users\\plubi\\Anaconda3\\lib\\site-packages\\h5py\\__init__.py:34: FutureWarning: Conversion of the second argument of issubdtype from `float` to `np.floating` is deprecated. In future, it will be treated as `np.float64 == np.dtype(float).type`.\n",
      "  from ._conv import register_converters as _register_converters\n"
     ]
    },
    {
     "name": "stdout",
     "output_type": "stream",
     "text": [
      "Extracting /tmp/mnist_data/train-images-idx3-ubyte.gz\n",
      "Extracting /tmp/mnist_data/train-labels-idx1-ubyte.gz\n",
      "Extracting /tmp/mnist_data/t10k-images-idx3-ubyte.gz\n",
      "Extracting /tmp/mnist_data/t10k-labels-idx1-ubyte.gz\n"
     ]
    }
   ],
   "source": [
    "import tensorflow as tf\n",
    "\n",
    "# Import MINST data\n",
    "from tensorflow.examples.tutorials.mnist import input_data\n",
    "mnist = input_data.read_data_sets(\"/tmp/mnist_data/\", one_hot=True)"
   ]
  },
  {
   "cell_type": "code",
   "execution_count": 2,
   "metadata": {
    "colab": {
     "autoexec": {
      "startup": false,
      "wait_interval": 0
     }
    },
    "colab_type": "code",
    "collapsed": true,
    "id": "OGDAMtu5KWBW"
   },
   "outputs": [],
   "source": [
    "# Linear model\n",
    "\n",
    "# Parameters\n",
    "learning_rate = 0.01\n",
    "training_epochs = 25\n",
    "batch_size = 100\n",
    "display_step = 1\n",
    "\n",
    "# tf Graph Input\n",
    "x = tf.placeholder(tf.float32, [None, 784]) # mnist data image of shape 28*28=784\n",
    "y = tf.placeholder(tf.float32, [None, 10]) # 0-9 digits recognition => 10 classes\n",
    "\n",
    "# Set model weights\n",
    "W = tf.Variable(tf.zeros([784, 10]))\n",
    "b = tf.Variable(tf.zeros([10]))\n",
    "\n",
    "# Construct model\n",
    "y_ = tf.matmul(x, W) + b\n",
    "\n",
    "# Minimize error using MSE loss\n",
    "cost = tf.reduce_mean(tf.reduce_sum(tf.square(y - y_), reduction_indices=1))\n",
    "# Gradient Descent\n",
    "optimizer = tf.train.GradientDescentOptimizer(learning_rate).minimize(cost)\n",
    "\n",
    "# Initialize the variables (i.e. assign their default value)\n",
    "init = tf.global_variables_initializer()"
   ]
  },
  {
   "cell_type": "code",
   "execution_count": 3,
   "metadata": {
    "colab": {
     "autoexec": {
      "startup": false,
      "wait_interval": 0
     }
    },
    "colab_type": "code",
    "collapsed": true,
    "id": "N6ng8B0gk5rq"
   },
   "outputs": [],
   "source": [
    "# One-vs-all logistic regression\n",
    "\n",
    "# # Parameters\n",
    "# learning_rate = 0.01\n",
    "# training_epochs = 25\n",
    "# batch_size = 100\n",
    "# display_step = 1\n",
    "\n",
    "# # tf Graph Input\n",
    "# x = tf.placeholder(tf.float32, [None, 784]) # mnist data image of shape 28*28=784\n",
    "# y = tf.placeholder(tf.float32, [None, 10]) # 0-9 digits recognition => 10 classes\n",
    "\n",
    "# # Set model weights\n",
    "# W = tf.Variable(tf.zeros([784, 10]))\n",
    "# b = tf.Variable(tf.zeros([10]))\n",
    "\n",
    "# # Construct model\n",
    "# y_ = tf.sigmoid(tf.matmul(x, W) + b) \n",
    "\n",
    "# # Minimize error using cross entropy loss\n",
    "# cost = tf.reduce_mean(-tf.reduce_sum((y*tf.log(y_) + (1-y)*tf.log(1-y_)), reduction_indices=1))\n",
    "# # Gradient Descent\n",
    "# optimizer = tf.train.GradientDescentOptimizer(learning_rate).minimize(cost)\n",
    "\n",
    "# # Initialize the variables (i.e. assign their default value)\n",
    "# init = tf.global_variables_initializer()"
   ]
  },
  {
   "cell_type": "code",
   "execution_count": 4,
   "metadata": {
    "colab": {
     "autoexec": {
      "startup": false,
      "wait_interval": 0
     }
    },
    "colab_type": "code",
    "collapsed": true,
    "id": "RX-bLt5_lVQM"
   },
   "outputs": [],
   "source": [
    "# Softmax\n",
    "\n",
    "# # Parameters\n",
    "# learning_rate = 0.01\n",
    "# training_epochs = 25\n",
    "# batch_size = 100\n",
    "# display_step = 1\n",
    "\n",
    "# # tf Graph Input\n",
    "# x = tf.placeholder(tf.float32, [None, 784]) # mnist data image of shape 28*28=784\n",
    "# y = tf.placeholder(tf.float32, [None, 10]) # 0-9 digits recognition => 10 classes\n",
    "\n",
    "# # Set model weights\n",
    "# W = tf.Variable(tf.zeros([784, 10]))\n",
    "# b = tf.Variable(tf.zeros([10]))\n",
    "\n",
    "# # Construct model\n",
    "# y_ = tf.nn.softmax(tf.matmul(x, W) + b) \n",
    "\n",
    "# # Minimize error using cross entropy loss\n",
    "# cost = tf.reduce_mean(-tf.reduce_sum(y*tf.log(y_), reduction_indices=1))\n",
    "# # Gradient Descent\n",
    "# optimizer = tf.train.GradientDescentOptimizer(learning_rate).minimize(cost)\n",
    "\n",
    "# # Initialize the variables (i.e. assign their default value)\n",
    "# init = tf.global_variables_initializer()"
   ]
  },
  {
   "cell_type": "code",
   "execution_count": 5,
   "metadata": {
    "colab": {
     "autoexec": {
      "startup": false,
      "wait_interval": 0
     },
     "base_uri": "https://localhost:8080/",
     "height": 515,
     "output_extras": [
      {
       "item_id": 25
      }
     ]
    },
    "colab_type": "code",
    "executionInfo": {
     "elapsed": 20943,
     "status": "ok",
     "timestamp": 1516419117804,
     "user": {
      "displayName": "Oleksandr Zakharchuk",
      "photoUrl": "https://lh3.googleusercontent.com/a/default-user=s128",
      "userId": "106036967230627817979"
     },
     "user_tz": -60
    },
    "id": "4x5aroL_Kb-s",
    "outputId": "d4336a8d-9be0-47de-f765-21c59476c99d"
   },
   "outputs": [
    {
     "name": "stdout",
     "output_type": "stream",
     "text": [
      "Epoch: 0001 cost= 0.447887120\n",
      "Epoch: 0002 cost= 0.408103368\n",
      "Epoch: 0003 cost= 0.401289830\n",
      "Epoch: 0004 cost= 0.397827939\n",
      "Epoch: 0005 cost= 0.395850858\n",
      "Epoch: 0006 cost= 0.394322365\n",
      "Epoch: 0007 cost= 0.393384459\n",
      "Epoch: 0008 cost= 0.392590620\n",
      "Epoch: 0009 cost= 0.392129223\n",
      "Epoch: 0010 cost= 0.391764838\n",
      "Epoch: 0011 cost= 0.391185763\n",
      "Epoch: 0012 cost= 0.390714151\n",
      "Epoch: 0013 cost= 0.390790495\n",
      "Epoch: 0014 cost= 0.390328914\n",
      "Epoch: 0015 cost= 0.390076972\n",
      "Epoch: 0016 cost= 0.390015018\n",
      "Epoch: 0017 cost= 0.389785263\n",
      "Epoch: 0018 cost= 0.389636341\n",
      "Epoch: 0019 cost= 0.389405575\n",
      "Epoch: 0020 cost= 0.389191938\n",
      "Epoch: 0021 cost= 0.389184127\n",
      "Epoch: 0022 cost= 0.389054334\n",
      "Epoch: 0023 cost= 0.389035867\n",
      "Epoch: 0024 cost= 0.388985518\n",
      "Epoch: 0025 cost= 0.388878605\n",
      "Optimization Finished!\n",
      "Train Accuracy: 0.85498184\n",
      "Test Accuracy: 0.8609\n"
     ]
    }
   ],
   "source": [
    "# Start training\n",
    "with tf.Session() as sess:\n",
    "    sess.run(init)\n",
    "\n",
    "    # Training cycle\n",
    "    for epoch in range(training_epochs):\n",
    "        avg_cost = 0.\n",
    "        total_batch = int(mnist.train.num_examples/batch_size)\n",
    "        # Loop over all batches\n",
    "        for i in range(total_batch):\n",
    "            batch_xs, batch_ys = mnist.train.next_batch(batch_size)\n",
    "            # Fit training using batch data\n",
    "            _, c = sess.run([optimizer, cost], feed_dict={x: batch_xs,\n",
    "                                                          y: batch_ys})\n",
    "            # Compute average loss\n",
    "            avg_cost += c / total_batch\n",
    "        # Display logs per epoch step\n",
    "        if (epoch+1) % display_step == 0:\n",
    "            print(\"Epoch:\", '%04d' % (epoch+1), \"cost=\", \"{:.9f}\".format(avg_cost))\n",
    "\n",
    "    print(\"Optimization Finished!\")\n",
    "\n",
    "    # Test model\n",
    "    correct_prediction = tf.equal(tf.argmax(y_, 1), tf.argmax(y, 1))\n",
    "    # Calculate accuracy for 3000 examples\n",
    "    accuracy = tf.reduce_mean(tf.cast(correct_prediction, tf.float32))\n",
    "    print(\"Train Accuracy:\", accuracy.eval({x: mnist.train.images, y: mnist.train.labels}))\n",
    "    print(\"Test Accuracy:\", accuracy.eval({x: mnist.test.images, y: mnist.test.labels}))"
   ]
  },
  {
   "cell_type": "markdown",
   "metadata": {
    "colab_type": "text",
    "id": "lFpivqzRWf9m"
   },
   "source": [
    "Task: try increasing the learning rate to 0.5"
   ]
  },
  {
   "cell_type": "markdown",
   "metadata": {
    "colab_type": "text",
    "id": "eQM2-BD0oLi3"
   },
   "source": [
    "Task: which of the methods gives the best result? Why?"
   ]
  },
  {
   "cell_type": "code",
   "execution_count": null,
   "metadata": {
    "colab": {
     "autoexec": {
      "startup": false,
      "wait_interval": 0
     }
    },
    "colab_type": "code",
    "collapsed": true,
    "id": "ZfBU6v7VoPFN"
   },
   "outputs": [],
   "source": []
  }
 ],
 "metadata": {
  "colab": {
   "collapsed_sections": [],
   "default_view": {},
   "name": "2. TF Classification.ipynb",
   "provenance": [],
   "version": "0.3.2",
   "views": {}
  },
  "kernelspec": {
   "display_name": "Python 3",
   "language": "python",
   "name": "python3"
  },
  "language_info": {
   "codemirror_mode": {
    "name": "ipython",
    "version": 3
   },
   "file_extension": ".py",
   "mimetype": "text/x-python",
   "name": "python",
   "nbconvert_exporter": "python",
   "pygments_lexer": "ipython3",
   "version": "3.6.4"
  }
 },
 "nbformat": 4,
 "nbformat_minor": 1
}
